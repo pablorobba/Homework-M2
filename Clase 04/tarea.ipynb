{
 "cells": [
  {
   "cell_type": "markdown",
   "metadata": {},
   "source": [
    "1. Considera el experimento que consiste en un empleado que arma un producto.\n",
    "  - a. Defina la variable aleatoria que represente el tiempo en minutos requerido para armar el producto.<br>\n",
    "  - b. ¿Qué valores toma la variable aleatoria?<br>\n",
    "  - c. ¿Es una variable aleatoria discreta o continua?<br>"
   ]
  },
  {
   "cell_type": "code",
   "execution_count": 2,
   "metadata": {},
   "outputs": [
    {
     "name": "stdout",
     "output_type": "stream",
     "text": [
      "B) el numero aleatorio es 11\n"
     ]
    }
   ],
   "source": [
    "import numpy as np\n",
    "#a)\n",
    "a = np.random.randint(7,15,1)\n",
    "#b)\n",
    "print(\"B) el numero aleatorio es\", a[0])\n",
    "#c)discreta"
   ]
  },
  {
   "cell_type": "markdown",
   "metadata": {},
   "source": [
    "2. Considera el experimento que consiste en lanzar una moneda dos veces.\n",
    "  - a. Enumere los resultados experimentales.\n",
    "  - b. Defina una variable aleatoria que represente el número de caras en los dos lanzamientos.\n",
    "  - c. Dé el valor que la variable aleatoria tomará en cada uno de los resultados experimentales.\n",
    "  - d. ¿Es una variable aleatoria discreta o continua?"
   ]
  },
  {
   "cell_type": "code",
   "execution_count": 3,
   "metadata": {},
   "outputs": [
    {
     "name": "stdout",
     "output_type": "stream",
     "text": [
      "a) 4\n",
      "c) {1: ['C', 'C'], 2: ['C', 'S'], 3: ['S', 'C'], 4: ['S', 'S']}\n"
     ]
    }
   ],
   "source": [
    "#a) Cara seca\n",
    "a = 2**2 \n",
    "#b)\n",
    "print(\"a)\", a)\n",
    "\n",
    "#c)\n",
    "c = {1: [\"C\",\"C\"],\n",
    "     2: [\"C\",\"S\"],\n",
    "     3: [\"S\",\"C\"],\n",
    "     4: [\"S\",\"S\"]}\n",
    "print(\"c)\",c)\n",
    "#d) discreta"
   ]
  },
  {
   "cell_type": "markdown",
   "metadata": {},
   "source": [
    "3. Considera las decisiones de compra de los próximos tres clientes que lleguen a la tienda de ropa Martin Clothing Store. De acuerdo con la experiencia, el gerente de la tienda estima que la probabilidad de que un cliente realice una compra es 0.30. \n",
    "  - a. Describa si cumple con las reglas para clasificarlo como un experimiento binomial.\n",
    "  - b. ¿Cuál es la probabilidad de que dos de los próximos tres clientes realicen una compra?\n",
    "  - c. ¿Cuál es la probabilidad de que cuatro de los próximos diez clientes realicen una compra?"
   ]
  },
  {
   "cell_type": "code",
   "execution_count": 4,
   "metadata": {},
   "outputs": [
    {
     "name": "stdout",
     "output_type": "stream",
     "text": [
      "b) 0.189\n",
      "c) 0.2001209489999999\n"
     ]
    }
   ],
   "source": [
    "probabilidad = 0.30\n",
    "#a) cumple, porque en el experimento el cliente puede o no comprar, \n",
    "# y los elementos son independientes\n",
    "#b)\n",
    "from math import factorial\n",
    "\n",
    "DistribucionBinomial = lambda k,n,p:(factorial(n)/\n",
    "            (factorial(k)*factorial(n-k)))*pow(p,k) *pow(1-p,(n-k))\n",
    "\n",
    "print(\"b)\",DistribucionBinomial(2,3,0.30))\n",
    "#c)\n",
    "print(\"c)\",DistribucionBinomial(4,10,0.30) )"
   ]
  },
  {
   "cell_type": "markdown",
   "metadata": {},
   "source": [
    "4.  A la oficina de reservaciones de una aerolínea regional llegan 48 llamadas por hora.\n",
    "- a. Calcule la probabilidad de recibir cinco llamadas en un lapso de 5 minutos.\n",
    "- b. Estime la probabilidad de recibir exactamente 10 llamadas en un lapso de 15 minutos.\n",
    "- c. Suponga que no hay ninguna llamada en espera. Si el agente de viajes necesitará 5 minutos para la llamada que está atendiendo, ¿cuántas llamadas habrá en espera para cuando él termine? ¿Cuál es la probabilidad de que no haya ninguna llamada en espera?\n",
    "- d. Si en este momento no hay ninguna llamada, ¿cuál es la probabilidad de que el agente de viajes pueda tomar 3 minutos de descanso sin ser interrumpido por una llamada?"
   ]
  },
  {
   "cell_type": "code",
   "execution_count": 5,
   "metadata": {},
   "outputs": [
    {
     "name": "stdout",
     "output_type": "stream",
     "text": [
      "a) 0.15629345185053173\n",
      "b) 0.10483725588365939\n",
      "c) 4.0 \n",
      "\n",
      "0.018315638888734186\n",
      "d) 0.09071795328941248\n"
     ]
    }
   ],
   "source": [
    "from math import e\n",
    "\n",
    "Poisson = lambda x,k:((pow(x,k))/factorial(k))*pow(e,-x)\n",
    "\n",
    "probabilidad_de_llamada = 48/60\n",
    "#a)\n",
    "print(\"a)\",Poisson(5*probabilidad_de_llamada,5))\n",
    "#b)\n",
    "print(\"b)\",Poisson(15*probabilidad_de_llamada,10))\n",
    "#c)\n",
    "print(\"c)\",5*probabilidad_de_llamada, \"\\n\")\n",
    "print(Poisson(5*probabilidad_de_llamada,0))\n",
    "#d)\n",
    "print(\"d)\",Poisson(3*probabilidad_de_llamada,0))"
   ]
  },
  {
   "cell_type": "markdown",
   "metadata": {},
   "source": [
    "5. En una encuesta realizada por Gallup Organization, se les preguntó a los interrogados, “Cuál es el deporte que prefieres ver”. Futbol y básquetbol ocuparon el primero y segundo lugar de preferencia (www.gallup.com, 3 de enero de 2004). Si en un grupo de 10 individuos, siete prefieren futbol y tres prefieren básquetbol. Se toma una muestra aleatoria de tres de estas personas.\n",
    "- a. ¿Cuál es la probabilidad de que exactamente dos prefieren el futbol?\n",
    "- b. ¿De que la mayoría (ya sean dos o tres) prefiere el futbol?"
   ]
  },
  {
   "cell_type": "code",
   "execution_count": 6,
   "metadata": {},
   "outputs": [
    {
     "name": "stdout",
     "output_type": "stream",
     "text": [
      "a) 0.525\n",
      "b) 0.8333333333333334\n"
     ]
    }
   ],
   "source": [
    "#10 individuos, 7 futbol,3 basquet\n",
    "def probabilidad_hipergeometrica(N,X,n,x):\n",
    "  Xx = factorial(X)/(factorial(x)*factorial(X-x))\n",
    "  NX_nx= factorial(N-X)/(factorial(n-x)*factorial((N-X)-(n-x)))\n",
    "  Nn = factorial(N)/(factorial(n)*factorial(N-n))\n",
    "  hipergeometrica = (Xx * NX_nx)/Nn\n",
    "\n",
    "  return hipergeometrica\n",
    "\n",
    "print(\"a)\",probabilidad_hipergeometrica(10,7,3,2))\n",
    "\n",
    "print(\"b)\", 1- (probabilidad_hipergeometrica(10,7,3,1)-probabilidad_hipergeometrica(10,7,3,0)))"
   ]
  },
  {
   "cell_type": "markdown",
   "metadata": {},
   "source": [
    "6. La probabilidad de que a un estudiante le guste este modulo es de 0.7 (en Henry somos optimistas), cual es la probabilidad de que les guste este módulo a 6 de los 10 estudiantes.<br>"
   ]
  },
  {
   "cell_type": "code",
   "execution_count": 7,
   "metadata": {},
   "outputs": [
    {
     "name": "stdout",
     "output_type": "stream",
     "text": [
      "0.20012094900000005\n"
     ]
    }
   ],
   "source": [
    "print(DistribucionBinomial(6,10,0.7))"
   ]
  },
  {
   "cell_type": "markdown",
   "metadata": {},
   "source": [
    "7. De todos los push a Git en un Henry Challenge, el 90% lo envía a término. Si se envían 9 ¿cuál es la probabilidad de que 7 lleguen a término?.<br>"
   ]
  },
  {
   "cell_type": "code",
   "execution_count": 8,
   "metadata": {},
   "outputs": [
    {
     "name": "stdout",
     "output_type": "stream",
     "text": [
      "0.17218688399999993\n"
     ]
    }
   ],
   "source": [
    "print(DistribucionBinomial(7,9,0.9))"
   ]
  },
  {
   "cell_type": "markdown",
   "metadata": {},
   "source": [
    "8. En relación con el enunciado anterior cálcule la probabilidad de que 7 o más lleguen a término.<br>\n",
    "Distribución de Poisson:<br>"
   ]
  },
  {
   "cell_type": "code",
   "execution_count": 9,
   "metadata": {},
   "outputs": [
    {
     "name": "stdout",
     "output_type": "stream",
     "text": [
      "0.3356463078436342\n"
     ]
    }
   ],
   "source": [
    "print((Poisson(7*0.9,7))+(Poisson(7*0.9,8))+(Poisson(7*0.9,9)))"
   ]
  },
  {
   "cell_type": "markdown",
   "metadata": {},
   "source": [
    "9. La cantidad de alumnos promedio que se ausentan en un día de clases en la carrera de Data Science es de 10. Calcular cual es la probabilidad de que se ausenten 7 alumnos.<br>"
   ]
  },
  {
   "cell_type": "code",
   "execution_count": 10,
   "metadata": {},
   "outputs": [
    {
     "name": "stdout",
     "output_type": "stream",
     "text": [
      "0.09007922571921602\n"
     ]
    }
   ],
   "source": [
    "print(Poisson(10,7))"
   ]
  },
  {
   "cell_type": "markdown",
   "metadata": {},
   "source": [
    "10. Cuando inicia una clase, los estudiantes ingresan a un ritmo de 5 estudiantes por minuto. Calcular cual es la probabilidad de que ingresen 7 estudiantes por minuto.<br>"
   ]
  },
  {
   "cell_type": "code",
   "execution_count": 12,
   "metadata": {},
   "outputs": [
    {
     "name": "stdout",
     "output_type": "stream",
     "text": [
      "0.10444486295705402\n"
     ]
    }
   ],
   "source": [
    "print(Poisson(5,7))"
   ]
  },
  {
   "cell_type": "markdown",
   "metadata": {},
   "source": [
    "11. Cada 3 días ingresan 10 estudiantes nuevos al Prep Course de Henry, calcule la probabilidad de que ingresen 15 nuevos estudiantes en un período de 6 días.<br>"
   ]
  },
  {
   "cell_type": "code",
   "execution_count": 16,
   "metadata": {},
   "outputs": [
    {
     "ename": "TypeError",
     "evalue": "'float' object cannot be interpreted as an integer",
     "output_type": "error",
     "traceback": [
      "\u001b[1;31m---------------------------------------------------------------------------\u001b[0m",
      "\u001b[1;31mTypeError\u001b[0m                                 Traceback (most recent call last)",
      "Cell \u001b[1;32mIn[16], line 1\u001b[0m\n\u001b[1;32m----> 1\u001b[0m \u001b[39mprint\u001b[39m(Poisson(\u001b[39m0.3\u001b[39;49m,\u001b[39m2.5\u001b[39;49m))\n",
      "Cell \u001b[1;32mIn[5], line 3\u001b[0m, in \u001b[0;36m<lambda>\u001b[1;34m(x, k)\u001b[0m\n\u001b[0;32m      1\u001b[0m \u001b[39mfrom\u001b[39;00m \u001b[39mmath\u001b[39;00m \u001b[39mimport\u001b[39;00m e\n\u001b[1;32m----> 3\u001b[0m Poisson \u001b[39m=\u001b[39m \u001b[39mlambda\u001b[39;00m x,k:((\u001b[39mpow\u001b[39m(x,k))\u001b[39m/\u001b[39mfactorial(k))\u001b[39m*\u001b[39m\u001b[39mpow\u001b[39m(e,\u001b[39m-\u001b[39mx)\n\u001b[0;32m      5\u001b[0m probabilidad_de_llamada \u001b[39m=\u001b[39m \u001b[39m48\u001b[39m\u001b[39m/\u001b[39m\u001b[39m60\u001b[39m\n\u001b[0;32m      6\u001b[0m \u001b[39m#a)\u001b[39;00m\n",
      "\u001b[1;31mTypeError\u001b[0m: 'float' object cannot be interpreted as an integer"
     ]
    }
   ],
   "source": []
  },
  {
   "cell_type": "markdown",
   "metadata": {},
   "source": [
    "12. En una distribución de Poisson de lamba_np=3, cual es la probabilidad de x>=1.<br>\n",
    "Distribución Normal:<br>"
   ]
  },
  {
   "cell_type": "code",
   "execution_count": null,
   "metadata": {},
   "outputs": [],
   "source": []
  },
  {
   "cell_type": "markdown",
   "metadata": {},
   "source": [
    "13. La calificación promedio de los estudiantes de Henry es de 78 con una desviación estandar de 25. Cual es la probabilidad de tener estudiantes con calificaciones mayores o iguales 90."
   ]
  },
  {
   "cell_type": "code",
   "execution_count": null,
   "metadata": {},
   "outputs": [],
   "source": []
  }
 ],
 "metadata": {
  "kernelspec": {
   "display_name": "Python 3",
   "language": "python",
   "name": "python3"
  },
  "language_info": {
   "codemirror_mode": {
    "name": "ipython",
    "version": 3
   },
   "file_extension": ".py",
   "mimetype": "text/x-python",
   "name": "python",
   "nbconvert_exporter": "python",
   "pygments_lexer": "ipython3",
   "version": "3.11.0"
  },
  "orig_nbformat": 4
 },
 "nbformat": 4,
 "nbformat_minor": 2
}
