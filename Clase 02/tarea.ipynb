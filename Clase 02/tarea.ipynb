{
 "cells": [
  {
   "cell_type": "code",
   "execution_count": 1,
   "metadata": {},
   "outputs": [
    {
     "data": {
      "text/plain": [
       "1024"
      ]
     },
     "execution_count": 1,
     "metadata": {},
     "output_type": "execute_result"
    }
   ],
   "source": [
    "#1)\n",
    "moneda = 2\n",
    "numero_de_tiros = 10\n",
    "posibilidades = moneda ** numero_de_tiros\n",
    "posibilidades"
   ]
  },
  {
   "cell_type": "code",
   "execution_count": 2,
   "metadata": {},
   "outputs": [
    {
     "name": "stdout",
     "output_type": "stream",
     "text": [
      "la regla de combinacion da 120.0\n",
      "la regla de permutación da 720.0\n"
     ]
    }
   ],
   "source": [
    "#2) \n",
    "def factorial(numero):\n",
    "    factorial = numero \n",
    "    while numero > 1:\n",
    "        numero -=1\n",
    "        factorial = factorial * numero\n",
    "    return factorial\n",
    "\n",
    "regla_de_conteo_combinacion = lambda N,n: factorial(N)/(factorial\n",
    "                                                        (n)*factorial(N - n))\n",
    "regla_de_conteo_permutación = lambda N,n: factorial(N)/ factorial(N - n)\n",
    "pasajeros = 10\n",
    "pasajeros_a_seleccionar = 3\n",
    "print(\"la regla de combinacion da\",\n",
    "      regla_de_conteo_combinacion(pasajeros,pasajeros_a_seleccionar))\n",
    "print(\"la regla de permutación da\", \n",
    "      regla_de_conteo_permutación(pasajeros,pasajeros_a_seleccionar))"
   ]
  },
  {
   "cell_type": "code",
   "execution_count": 21,
   "metadata": {},
   "outputs": [
    {
     "name": "stdout",
     "output_type": "stream",
     "text": [
      "0.029626420422011603\n",
      "Probabilidad de que compartan una misma fecha de cumpleaños es 0.97\n"
     ]
    },
    {
     "data": {
      "text/plain": [
       "0.863013698630137"
      ]
     },
     "execution_count": 21,
     "metadata": {},
     "output_type": "execute_result"
    }
   ],
   "source": [
    "prob = 1.0\n",
    "asistentes = 50\n",
    "\n",
    "for i in range(asistentes):\n",
    "    prob = prob * (365-i)/365\n",
    "\n",
    "print(prob)\n",
    "print(\"Probabilidad de que compartan una misma fecha de cumpleaños es {0:.2f}\"\n",
    "      .format(1 - prob))\n",
    "a = 365-50\n",
    "a/365"
   ]
  },
  {
   "cell_type": "code",
   "execution_count": 14,
   "metadata": {},
   "outputs": [
    {
     "name": "stdout",
     "output_type": "stream",
     "text": [
      "el total es 0.7900552486187845 por lo tanto, el director está conforme\n"
     ]
    },
    {
     "data": {
      "text/html": [
       "<div>\n",
       "<style scoped>\n",
       "    .dataframe tbody tr th:only-of-type {\n",
       "        vertical-align: middle;\n",
       "    }\n",
       "\n",
       "    .dataframe tbody tr th {\n",
       "        vertical-align: top;\n",
       "    }\n",
       "\n",
       "    .dataframe thead th {\n",
       "        text-align: right;\n",
       "    }\n",
       "</style>\n",
       "<table border=\"1\" class=\"dataframe\">\n",
       "  <thead>\n",
       "    <tr style=\"text-align: right;\">\n",
       "      <th></th>\n",
       "      <th>Sí</th>\n",
       "      <th>No</th>\n",
       "      <th>Probabilidades sí</th>\n",
       "      <th>Probabilidades no</th>\n",
       "      <th>Total</th>\n",
       "    </tr>\n",
       "  </thead>\n",
       "  <tbody>\n",
       "    <tr>\n",
       "      <th>Norte</th>\n",
       "      <td>148</td>\n",
       "      <td>52</td>\n",
       "      <td>0.136280</td>\n",
       "      <td>0.136280</td>\n",
       "      <td>0.272560</td>\n",
       "    </tr>\n",
       "    <tr>\n",
       "      <th>Noreste</th>\n",
       "      <td>162</td>\n",
       "      <td>54</td>\n",
       "      <td>0.149171</td>\n",
       "      <td>0.149171</td>\n",
       "      <td>0.298343</td>\n",
       "    </tr>\n",
       "    <tr>\n",
       "      <th>Sur</th>\n",
       "      <td>296</td>\n",
       "      <td>74</td>\n",
       "      <td>0.272560</td>\n",
       "      <td>0.272560</td>\n",
       "      <td>0.545120</td>\n",
       "    </tr>\n",
       "    <tr>\n",
       "      <th>Centro</th>\n",
       "      <td>252</td>\n",
       "      <td>48</td>\n",
       "      <td>0.232044</td>\n",
       "      <td>0.232044</td>\n",
       "      <td>0.464088</td>\n",
       "    </tr>\n",
       "  </tbody>\n",
       "</table>\n",
       "</div>"
      ],
      "text/plain": [
       "          Sí  No  Probabilidades sí  Probabilidades no     Total\n",
       "Norte    148  52           0.136280           0.136280  0.272560\n",
       "Noreste  162  54           0.149171           0.149171  0.298343\n",
       "Sur      296  74           0.272560           0.272560  0.545120\n",
       "Centro   252  48           0.232044           0.232044  0.464088"
      ]
     },
     "execution_count": 14,
     "metadata": {},
     "output_type": "execute_result"
    }
   ],
   "source": [
    "#3)a) para lo general, se utilizó el metodo frecuentista, para lo particular la bayesiana\n",
    "#b)\n",
    "import pandas as pd\n",
    "datos = {\n",
    "         \"Sí\": [148 , 162,296,252],\n",
    "         \"No\": [52,54,74,48],\n",
    "         }\n",
    "df = pd.DataFrame(datos, index =[\"Norte\",\"Noreste\",\"Sur\",\"Centro\"])\n",
    "columna_si = df[\"Sí\"].values\n",
    "columna_no = df[\"Sí\"].values\n",
    "probabilidades_si = [i/(858+228) for i in columna_si]\n",
    "probabilidades_no = [i/(858+228) for i in columna_no]\n",
    "df[\"Probabilidades sí\"] = probabilidades_si\n",
    "df[\"Probabilidades no\"] = probabilidades_no\n",
    "Total = df[\"Probabilidades sí\"].sum()\n",
    "print(\"el total es\", Total, \"por lo tanto, el director está conforme\")\n",
    "df = df.assign(Total = df[\"Probabilidades sí\"]  + df[\"Probabilidades no\"])\n",
    "df\n"
   ]
  },
  {
   "cell_type": "code",
   "execution_count": 15,
   "metadata": {},
   "outputs": [
    {
     "name": "stdout",
     "output_type": "stream",
     "text": [
      "la probabilidad es 0.5\n",
      "la probabilidad es 0.5\n",
      "la probabilidad es 0.75\n",
      "la probabilidad es 0.75\n",
      "la probabilidad es 0.75\n",
      "la probabilidad es 0.75\n",
      "0.15384615384615385\n",
      "0.15384615384615385\n"
     ]
    }
   ],
   "source": [
    "cartas_rojas = 52/2\n",
    "cartas_negras = 52/2\n",
    "trebol = 13\n",
    "corazon = 13\n",
    "pica = 13\n",
    "diamante = 13\n",
    "\n",
    "def carta_probabilidad(cartas_tipo):\n",
    "    cartas = 52\n",
    "    return print(\"la probabilidad es\", 1 - cartas_tipo/cartas)\n",
    "\n",
    "carta_probabilidad(cartas_negras)\n",
    "carta_probabilidad(cartas_rojas)\n",
    "carta_probabilidad(trebol)\n",
    "carta_probabilidad(corazon)\n",
    "carta_probabilidad(pica)\n",
    "carta_probabilidad(diamante)\n",
    "\n",
    "print(4/52 + 4/52)\n",
    "print(8/52)"
   ]
  },
  {
   "cell_type": "code",
   "execution_count": 6,
   "metadata": {},
   "outputs": [
    {
     "name": "stdout",
     "output_type": "stream",
     "text": [
      "0.4 0.26 0.34\n"
     ]
    }
   ],
   "source": [
    "E1 = 20\n",
    "E2 = 13\n",
    "E3 = 17\n",
    "print(E1/50, E2/50, E3/50)"
   ]
  },
  {
   "cell_type": "code",
   "execution_count": 12,
   "metadata": {},
   "outputs": [
    {
     "name": "stdout",
     "output_type": "stream",
     "text": [
      "0.13636363636363635\n",
      "0.03125\n"
     ]
    }
   ],
   "source": [
    "print(3 / 22)\n",
    "print(1/32)"
   ]
  },
  {
   "cell_type": "markdown",
   "metadata": {},
   "source": [
    "1. Si la probabilidad de que un cliente pague en efectivo (E) es 6/15, con tarjeta de crédito (TD) es 7/15 y con tarjeta de débito (TD) es 2/15. Hallar la probabilidad de que dos clientes sucesivos que pagan sus cuentas lo hagan:<br>\n",
    " a) el primero en efectivo y el segundo con tarjeta de crédito.<br>\n",
    " b) Los dos clientes en efectivo<br>"
   ]
  },
  {
   "cell_type": "code",
   "execution_count": 23,
   "metadata": {},
   "outputs": [
    {
     "name": "stdout",
     "output_type": "stream",
     "text": [
      "0.18666666666666668\n",
      "0.2177777777777778\n"
     ]
    }
   ],
   "source": [
    "primero_efectivo = 6/15\n",
    "segundo_credito = 7/15\n",
    "tercero_debito = 2/15\n",
    "\n",
    "print(primero_efectivo* segundo_credito)\n",
    "print(segundo_credito*segundo_credito)"
   ]
  },
  {
   "cell_type": "code",
   "execution_count": 34,
   "metadata": {},
   "outputs": [
    {
     "data": {
      "text/plain": [
       "0.16000000000000003"
      ]
     },
     "execution_count": 34,
     "metadata": {},
     "output_type": "execute_result"
    }
   ],
   "source": [
    "#2)a) 20% de aprobar la primera, 50% de aprobar la segunda y 30% la tercera\n",
    "#2)c)\n",
    "probabilidad = 0.8*0.5*0.4\n",
    "probabilidad"
   ]
  }
 ],
 "metadata": {
  "kernelspec": {
   "display_name": "Python 3",
   "language": "python",
   "name": "python3"
  },
  "language_info": {
   "codemirror_mode": {
    "name": "ipython",
    "version": 3
   },
   "file_extension": ".py",
   "mimetype": "text/x-python",
   "name": "python",
   "nbconvert_exporter": "python",
   "pygments_lexer": "ipython3",
   "version": "3.11.0"
  },
  "orig_nbformat": 4
 },
 "nbformat": 4,
 "nbformat_minor": 2
}
