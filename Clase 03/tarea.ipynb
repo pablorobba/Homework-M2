{
 "cells": [
  {
   "cell_type": "code",
   "execution_count": 1,
   "metadata": {},
   "outputs": [
    {
     "name": "stdout",
     "output_type": "stream",
     "text": [
      "0.6666666666666667\n",
      "0.8\n"
     ]
    }
   ],
   "source": [
    "#1. Suponga dos eventos, A y B, y que P(A) = 0.50, P(B) = 0.60 y P(A ∩ B) = 0.40.<br>\n",
    "#- a. Halle P(A | B).\n",
    "#- b. Halle P(B | A).\n",
    "#- c. ¿A y B son independientes? ¿Por qué sí o por qué no?\n",
    "print(0.40/0.60)\n",
    "print(0.40/0.50)"
   ]
  },
  {
   "cell_type": "code",
   "execution_count": 6,
   "metadata": {},
   "outputs": [
    {
     "data": {
      "text/plain": [
       "'\\n2. Suponga dos eventos, A y B, que son mutuamente excluyentes. Admita, además, que P(A) = 0.30 y P(B) = 0.40.<br>\\n- a. Obtenga P(A ∩ B). ¿Existe intersección entre los dos conjuntos?.\\n- b. Calcule P(A | B).\\n- c. Un estudiante de estadística argumenta que los conceptos de eventos mutuamente excluyentes y eventos \\n    independientes son en realidad lo mismo y que si los eventos son mutuamente excluyentes deben \\n    ser también independientes. ¿Está usted de acuerdo? Use la información sobre las probabilidades \\n    para justificar su respuesta.\\n'"
      ]
     },
     "execution_count": 6,
     "metadata": {},
     "output_type": "execute_result"
    }
   ],
   "source": [
    "\"\"\"\n",
    "2. Suponga dos eventos, A y B, que son mutuamente excluyentes. Admita, además, que P(A) = 0.30 y P(B) = 0.40.<br>\n",
    "- a. Obtenga P(A ∩ B). ¿Existe intersección entre los dos conjuntos?.\n",
    "- b. Calcule P(A | B).\n",
    "- c. Un estudiante de estadística argumenta que los conceptos de eventos mutuamente excluyentes y eventos \n",
    "    independientes son en realidad lo mismo y que si los eventos son mutuamente excluyentes deben \n",
    "    ser también independientes. ¿Está usted de acuerdo? Use la información sobre las probabilidades \n",
    "    para justificar su respuesta.\n",
    "\"\"\"\n",
    "#2a) 0\n",
    "#2b) 0.30\n",
    "#2c) no son lo mismo"
   ]
  },
  {
   "cell_type": "code",
   "execution_count": 11,
   "metadata": {},
   "outputs": [
    {
     "name": "stdout",
     "output_type": "stream",
     "text": [
      "0.159375\n",
      "0.390625\n"
     ]
    }
   ],
   "source": [
    "\"\"\"\n",
    "3. Si en la concesionaria se seleccionan dos ventas con reposición (Los sucesos son independientes.). \n",
    "Hallar la probabilidad de que las ventas sean:\n",
    " \n",
    "  - a. La primera de un comprador de “menos de 40 años” y la segunda de uno de \"entre 40 y 50 años\". \n",
    "  \n",
    "  - b. las dos sean de autos \"nacionales\".\n",
    "\"\"\"\n",
    "menor_40 = 30/80\n",
    "entre_40_50 = 34/80\n",
    "print(menor_40*entre_40_50)\n",
    "print(50/80*50/80)\n"
   ]
  },
  {
   "cell_type": "code",
   "execution_count": 13,
   "metadata": {},
   "outputs": [
    {
     "name": "stdout",
     "output_type": "stream",
     "text": [
      "0.16139240506329114\n",
      "0.3876582278481013\n"
     ]
    }
   ],
   "source": [
    "\"\"\"\n",
    "4. Si la selección de las dos ventas se realiza sin reposición. Hallar la probabilidad de que las ventas sean:\n",
    "  Los sucesos son condicionales.\n",
    "\n",
    " - a. la primera de un comprador de “menos de 40 años” y la segunda de uno de \"entre 40 y 50 años\".\n",
    "\n",
    " - b. las dos sean de autos \"nacionales\".\n",
    " \"\"\"\n",
    "\n",
    "print(30/80*34/79)\n",
    "print(50/80*49/79)\n",
    " "
   ]
  },
  {
   "cell_type": "code",
   "execution_count": 2,
   "metadata": {},
   "outputs": [
    {
     "name": "stdout",
     "output_type": "stream",
     "text": [
      "0.3227848101265823\n"
     ]
    }
   ],
   "source": [
    "\"\"\"\n",
    "Si la selección de las dos ventas se realiza sin reposición. Hallar la probabilidad de que las ventas sean:\n",
    "Los sucesos son condicionales.\n",
    "a. De un comprador de “menos de 40 años” y de uno de \"entre 40 y 50 años\". Sin importar el orden.\n",
    "\"\"\"\n",
    "print(30/80*34/79+34/80*30/79)"
   ]
  },
  {
   "cell_type": "code",
   "execution_count": 1,
   "metadata": {},
   "outputs": [
    {
     "name": "stdout",
     "output_type": "stream",
     "text": [
      "a )\n",
      "\n"
     ]
    },
    {
     "data": {
      "text/html": [
       "<div>\n",
       "<style scoped>\n",
       "    .dataframe tbody tr th:only-of-type {\n",
       "        vertical-align: middle;\n",
       "    }\n",
       "\n",
       "    .dataframe tbody tr th {\n",
       "        vertical-align: top;\n",
       "    }\n",
       "\n",
       "    .dataframe thead th {\n",
       "        text-align: right;\n",
       "    }\n",
       "</style>\n",
       "<table border=\"1\" class=\"dataframe\">\n",
       "  <thead>\n",
       "    <tr style=\"text-align: right;\">\n",
       "      <th></th>\n",
       "      <th>Sí</th>\n",
       "      <th>No</th>\n",
       "      <th>Total</th>\n",
       "    </tr>\n",
       "  </thead>\n",
       "  <tbody>\n",
       "    <tr>\n",
       "      <th>18 a 34</th>\n",
       "      <td>0.375</td>\n",
       "      <td>0.085</td>\n",
       "      <td>0.46</td>\n",
       "    </tr>\n",
       "    <tr>\n",
       "      <th>35 o mayor</th>\n",
       "      <td>0.475</td>\n",
       "      <td>0.065</td>\n",
       "      <td>0.54</td>\n",
       "    </tr>\n",
       "    <tr>\n",
       "      <th>Total</th>\n",
       "      <td>0.850</td>\n",
       "      <td>0.150</td>\n",
       "      <td>1.00</td>\n",
       "    </tr>\n",
       "  </tbody>\n",
       "</table>\n",
       "</div>"
      ],
      "text/plain": [
       "               Sí     No  Total\n",
       "18 a 34     0.375  0.085   0.46\n",
       "35 o mayor  0.475  0.065   0.54\n",
       "Total       0.850  0.150   1.00"
      ]
     },
     "execution_count": 1,
     "metadata": {},
     "output_type": "execute_result"
    }
   ],
   "source": [
    "\"\"\"\n",
    " 6. Debido al aumento de los costos de los seguros, en un país 43 millones de personas, \n",
    "    hay personas que no cuentan con un seguro médico. En la tabla siguiente se muestran datos muestrales \n",
    "    representativos de la cantidad de personas que cuentan con seguro médico:\n",
    "\n",
    "- a. Con estos datos elabore una tabla de probabilidad conjunta y úsela para responder las preguntas restantes.\n",
    "- b. ¿Qué indican las probabilidades marginales acerca de la edad de la población?\n",
    "- c. ¿Cuál es la probabilidad de que una persona tomada en forma aleatoria no tenga seguro médico?\n",
    "- d. Si la persona tiene entre 18 y 34 años, ¿cuál es la probabilidad de que no tenga seguro médico?\n",
    "- e. Si la persona tiene 35 años o más ¿cuál es la probabilidad de que no tenga seguro médico?\n",
    "- f. Si la persona no tiene seguro médico, ¿cuál es la probabilidad de que tenga entre 18 y 34 años?\n",
    "\"\"\"\n",
    "import pandas as pd\n",
    "total = 750 + 170 + 950 + 130\n",
    "dic = {\"Sí\": [750,950],\n",
    "       \"No\": [170,130] }\n",
    "df = pd.DataFrame(dic, index=[\"18 a 34\", \"35 o mayor\"])\n",
    "df[\"Sí\"] = [i/total for i in df[\"Sí\"]]\n",
    "df[\"No\"] = [i/total for i in df[\"No\"]]\n",
    "df.loc[2] = df[\"Sí\"].sum(), df[\"No\"].sum()\n",
    "df = df.rename(index={2: 'Total'})\n",
    "df = df.assign(Total = df.Sí + df.No)\n",
    "print(\"a )\\n\")\n",
    "df.head()\n"
   ]
  },
  {
   "cell_type": "code",
   "execution_count": 5,
   "metadata": {},
   "outputs": [
    {
     "name": "stdout",
     "output_type": "stream",
     "text": [
      "b ) no hay una diferencia significativa entre los jovenes y los mayores de 35 (que, de todas formas, son mayores)\n",
      "c ) 0.15000000000000002 \n",
      "\n",
      "d ) 0.1847826086956522 \n",
      "\n",
      "e ) 0.12037037037037036 \n",
      "\n",
      "f ) 0.5666666666666667\n"
     ]
    }
   ],
   "source": [
    "print(\"b ) no hay una diferencia significativa entre los jovenes y\" \n",
    "      + \" los mayores de 35 (que, de todas formas, son mayores)\")\n",
    "print(\"c )\",df.No[2]/df.Total[2],\"\\n\")\n",
    "print(\"d )\",df.No[0]/df.Total[0],\"\\n\")\n",
    "print(\"e )\",df.No[1]/df.Total[1],\"\\n\")\n",
    "print(\"f )\", df.No[0]/df.No[2])"
   ]
  }
 ],
 "metadata": {
  "kernelspec": {
   "display_name": "Python 3",
   "language": "python",
   "name": "python3"
  },
  "language_info": {
   "codemirror_mode": {
    "name": "ipython",
    "version": 3
   },
   "file_extension": ".py",
   "mimetype": "text/x-python",
   "name": "python",
   "nbconvert_exporter": "python",
   "pygments_lexer": "ipython3",
   "version": "3.11.0"
  },
  "orig_nbformat": 4
 },
 "nbformat": 4,
 "nbformat_minor": 2
}
