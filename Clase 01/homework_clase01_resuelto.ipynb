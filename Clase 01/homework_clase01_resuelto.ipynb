{
 "cells": [
  {
   "cell_type": "markdown",
   "metadata": {},
   "source": [
    "Homework clase 1 "
   ]
  },
  {
   "cell_type": "code",
   "execution_count": null,
   "metadata": {},
   "outputs": [],
   "source": [
    "import numpy as np # importando numpy\n",
    "from scipy import stats # importando scipy.stats\n",
    "import pandas as pd #importando pandas\n",
    "import matplotlib.pyplot as plt # importando matplotlib"
   ]
  },
  {
   "cell_type": "code",
   "execution_count": null,
   "metadata": {},
   "outputs": [],
   "source": [
    "muestra = np.array( \n",
    "       [[1.85, 1.80, 1.8 , 1.8],\n",
    "       [1.73,  1.7, 1.75, 1.76],\n",
    "       [ 1.65, 1.69,  1.67 ,  1.6],\n",
    "       [1.54,  1.57, 1.58, 1.59],\n",
    "       [ 1.4 , 1.42,  1.45, 1.48]])  "
   ]
  },
  {
   "cell_type": "code",
   "execution_count": null,
   "metadata": {},
   "outputs": [],
   "source": [
    "# Media aritmética\n",
    "print(muestra.mean()) #Método de instancia\n",
    "print(np.mean(muestra))\n",
    "\n",
    "def obtenerPromedio(arreglo):\n",
    "   numeros = [numero for fila in arreglo for numero in fila]\n",
    "   suma = 0\n",
    "   for cantidad, numero in enumerate(numeros, 1):\n",
    "      suma += numero\n",
    "   promedio = suma / cantidad\n",
    "   return promedio\n",
    "\n",
    "obtenerPromedio(muestra)"
   ]
  },
  {
   "cell_type": "code",
   "execution_count": null,
   "metadata": {},
   "outputs": [],
   "source": [
    "# Mediana\n",
    "print(np.median(muestra))"
   ]
  },
  {
   "cell_type": "code",
   "execution_count": null,
   "metadata": {},
   "outputs": [],
   "source": [
    "# Tipo de colección de datos set\n",
    "numbers = {2,3,4,5,5,5,7,7,8}\n",
    "numbers"
   ]
  },
  {
   "cell_type": "code",
   "execution_count": null,
   "metadata": {},
   "outputs": [],
   "source": [
    "# Moda\n",
    "print(stats.mode(muestra.flatten())[0][0])\n",
    "\n",
    "def obtenerModa(arreglo):\n",
    "   numeros = [numero for fila in arreglo for numero in fila] # Paso a una lista la matriz\n",
    "   unicos = set(numeros) #Guardo los valores únicos\n",
    "   #print(numeros, unicos)\n",
    "   moda, maximo = 0, 0\n",
    "   for numero in unicos:\n",
    "      conteo = numeros.count(numero) #Busco la mayor repetición del valor\n",
    "      if conteo > maximo:\n",
    "         maximo = conteo\n",
    "         moda = numero\n",
    "   return (moda, maximo)\n",
    "\n",
    "print(obtenerModa(muestra)[0])"
   ]
  },
  {
   "cell_type": "code",
   "execution_count": null,
   "metadata": {},
   "outputs": [],
   "source": [
    "#Varianza\n",
    "print(np.var(muestra))\n",
    "\n",
    "def obtenerVarianza(arreglo):\n",
    "   promedio = arreglo.mean()\n",
    "   numeros = [numero for fila in arreglo for numero in fila]\n",
    "   suma = 0\n",
    "   for cantidad, numero in enumerate(numeros, 1):\n",
    "      suma += pow((numero - promedio), 2)\n",
    "   varianza = suma / cantidad\n",
    "   return varianza\n",
    "\n",
    "print(obtenerVarianza(muestra))\n",
    "   "
   ]
  },
  {
   "cell_type": "code",
   "execution_count": null,
   "metadata": {},
   "outputs": [],
   "source": [
    "# Desvío estandar\n",
    "print(np.std(muestra))\n",
    "from math import sqrt\n",
    "print(sqrt(obtenerVarianza(muestra)))"
   ]
  },
  {
   "cell_type": "code",
   "execution_count": null,
   "metadata": {},
   "outputs": [],
   "source": [
    "# Coeficiente de variación\n",
    "print(np.std(muestra) / np.mean(muestra) * 100)"
   ]
  },
  {
   "cell_type": "code",
   "execution_count": null,
   "metadata": {},
   "outputs": [],
   "source": [
    "#2\n",
    "numeros = [numero for fila in muestra for numero in fila]\n",
    "plt.hist(x = numeros, bins = 5, color='cyan', rwidth = 0.8)\n",
    "plt.title(\"Histograma de alturas\", color='red')\n",
    "plt.xlabel('Alturas')\n",
    "plt.ylabel('Frecuencia')\n",
    "plt.show()"
   ]
  },
  {
   "cell_type": "code",
   "execution_count": null,
   "metadata": {},
   "outputs": [],
   "source": [
    "#3\n",
    "df = pd.DataFrame(muestra, index = range(1,6), columns=['col1', 'col2','col3','col4',])\n",
    "#df.describe()\n",
    "df"
   ]
  },
  {
   "cell_type": "code",
   "execution_count": null,
   "metadata": {},
   "outputs": [],
   "source": [
    "np.array([1.634000, 1.636000, 1.650000, 1.646000]).mean()"
   ]
  },
  {
   "cell_type": "code",
   "execution_count": null,
   "metadata": {},
   "outputs": [],
   "source": [
    "#4\n",
    "grupos = np.array([[10.5,17],\n",
    "                  [6.8,18],\n",
    "                  [20.7,21],\n",
    "                  [18.2,16],\n",
    "                  [8.6,16],\n",
    "                  [25.8,21],\n",
    "                  [22.2,16],\n",
    "                  [5.9,14],\n",
    "                  [7.6,18],\n",
    "                  [11.8,18]])\n",
    "\n",
    "df_grupos = pd.DataFrame(grupos, index = range(1,11), columns=['Ingreso en miles','Años de estudio'])\n",
    "#df_grupos.describe()\n",
    "df_grupos"
   ]
  },
  {
   "cell_type": "code",
   "execution_count": null,
   "metadata": {},
   "outputs": [],
   "source": [
    "#5\n",
    "plt.hist(x = df_grupos['Ingreso en miles'], bins = 6, color='cyan', rwidth = 0.8)\n",
    "plt.title(\"Histograma de Ingreso en miles\", color='red')\n",
    "plt.xlabel('Ingreso en miles')\n",
    "plt.ylabel('Frecuencia')\n",
    "plt.show()"
   ]
  },
  {
   "cell_type": "code",
   "execution_count": null,
   "metadata": {},
   "outputs": [],
   "source": [
    "plt.hist(x = df_grupos['Años de estudio'], bins = 6, color='cyan', rwidth = 0.8)\n",
    "plt.title(\"Histograma de Años de estudio\", color='red')\n",
    "plt.xlabel('Años de estudio')\n",
    "plt.ylabel('Frecuencia')\n",
    "plt.yticks(range(5))\n",
    "plt.show()"
   ]
  },
  {
   "cell_type": "code",
   "execution_count": null,
   "metadata": {},
   "outputs": [],
   "source": [
    "#6\n",
    "print(df_grupos['Ingreso en miles'].mean())"
   ]
  },
  {
   "cell_type": "code",
   "execution_count": null,
   "metadata": {},
   "outputs": [],
   "source": [
    "#7\n",
    "np.mean(grupos[:,0])"
   ]
  },
  {
   "cell_type": "code",
   "execution_count": null,
   "metadata": {},
   "outputs": [],
   "source": [
    "#8\n",
    "df_grupos.loc[11] = [50, 35]\n",
    "df_grupos.loc[12] = [120, 30]\n",
    "df_grupos"
   ]
  },
  {
   "cell_type": "code",
   "execution_count": null,
   "metadata": {},
   "outputs": [],
   "source": [
    "df_grupos.describe()"
   ]
  }
 ],
 "metadata": {
  "kernelspec": {
   "display_name": "Python 3",
   "language": "python",
   "name": "python3"
  },
  "language_info": {
   "codemirror_mode": {
    "name": "ipython",
    "version": 3
   },
   "file_extension": ".py",
   "mimetype": "text/x-python",
   "name": "python",
   "nbconvert_exporter": "python",
   "pygments_lexer": "ipython3",
   "version": "3.11.0"
  },
  "orig_nbformat": 4,
  "vscode": {
   "interpreter": {
    "hash": "25b967826fee24da2569b50746cf9fa4067dc6cfa635a17c8da9080146180dfa"
   }
  }
 },
 "nbformat": 4,
 "nbformat_minor": 2
}
